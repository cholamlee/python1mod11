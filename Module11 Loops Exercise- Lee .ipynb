{
 "cells": [
  {
   "cell_type": "markdown",
   "metadata": {},
   "source": [
    "### Exercise 1\n",
    "Create a multiplication table from 1 to 10"
   ]
  },
  {
   "cell_type": "code",
   "execution_count": 1,
   "metadata": {},
   "outputs": [
    {
     "name": "stdout",
     "output_type": "stream",
     "text": [
      "Multiplication table from 1 to 10\n",
      "------------ \n",
      "1  x  1 = 1\n",
      "1  x  2 = 2\n",
      "1  x  3 = 3\n",
      "1  x  4 = 4\n",
      "1  x  5 = 5\n",
      "1  x  6 = 6\n",
      "1  x  7 = 7\n",
      "1  x  8 = 8\n",
      "1  x  9 = 9\n",
      "------------ \n",
      "2  x  1 = 2\n",
      "2  x  2 = 4\n",
      "2  x  3 = 6\n",
      "2  x  4 = 8\n",
      "2  x  5 = 10\n",
      "2  x  6 = 12\n",
      "2  x  7 = 14\n",
      "2  x  8 = 16\n",
      "2  x  9 = 18\n",
      "------------ \n",
      "3  x  1 = 3\n",
      "3  x  2 = 6\n",
      "3  x  3 = 9\n",
      "3  x  4 = 12\n",
      "3  x  5 = 15\n",
      "3  x  6 = 18\n",
      "3  x  7 = 21\n",
      "3  x  8 = 24\n",
      "3  x  9 = 27\n",
      "------------ \n",
      "4  x  1 = 4\n",
      "4  x  2 = 8\n",
      "4  x  3 = 12\n",
      "4  x  4 = 16\n",
      "4  x  5 = 20\n",
      "4  x  6 = 24\n",
      "4  x  7 = 28\n",
      "4  x  8 = 32\n",
      "4  x  9 = 36\n",
      "------------ \n",
      "5  x  1 = 5\n",
      "5  x  2 = 10\n",
      "5  x  3 = 15\n",
      "5  x  4 = 20\n",
      "5  x  5 = 25\n",
      "5  x  6 = 30\n",
      "5  x  7 = 35\n",
      "5  x  8 = 40\n",
      "5  x  9 = 45\n",
      "------------ \n",
      "6  x  1 = 6\n",
      "6  x  2 = 12\n",
      "6  x  3 = 18\n",
      "6  x  4 = 24\n",
      "6  x  5 = 30\n",
      "6  x  6 = 36\n",
      "6  x  7 = 42\n",
      "6  x  8 = 48\n",
      "6  x  9 = 54\n",
      "------------ \n",
      "7  x  1 = 7\n",
      "7  x  2 = 14\n",
      "7  x  3 = 21\n",
      "7  x  4 = 28\n",
      "7  x  5 = 35\n",
      "7  x  6 = 42\n",
      "7  x  7 = 49\n",
      "7  x  8 = 56\n",
      "7  x  9 = 63\n",
      "------------ \n",
      "8  x  1 = 8\n",
      "8  x  2 = 16\n",
      "8  x  3 = 24\n",
      "8  x  4 = 32\n",
      "8  x  5 = 40\n",
      "8  x  6 = 48\n",
      "8  x  7 = 56\n",
      "8  x  8 = 64\n",
      "8  x  9 = 72\n",
      "------------ \n",
      "9  x  1 = 9\n",
      "9  x  2 = 18\n",
      "9  x  3 = 27\n",
      "9  x  4 = 36\n",
      "9  x  5 = 45\n",
      "9  x  6 = 54\n",
      "9  x  7 = 63\n",
      "9  x  8 = 72\n",
      "9  x  9 = 81\n"
     ]
    }
   ],
   "source": [
    "i = 1\n",
    "print(\"Multiplication table from 1 to 10\")\n",
    "while i < 10:\n",
    "    print (\"------------ \")\n",
    "    for y in range (1, 10):\n",
    "        print (i, \" x \", y, \"=\", i*y)\n",
    "    i += 1\n",
    "        \n",
    "      "
   ]
  },
  {
   "cell_type": "markdown",
   "metadata": {},
   "source": [
    "### Exercise 2\n",
    "Write a program to find the Fibonacci numbers where each number is the sum of the two preceding ones, starting from 0 and 1. \n",
    "\n",
    "    e.g.\n",
    "    0, 1, 1, 2, 3, 5, 8, ...\n",
    "    \n",
    "Ask a user to enter a number. Next, generate user specified number of Fibonacci numbers into a list. Then print out the list. The output should look something like this:\n",
    "\n",
    "    How many Fibonacci numbers would you like to generate? 10    \n",
    "    10 Fibonacci numbers are [0, 1, 1, 2, 3, 5, 8, 13, 21, 34]."
   ]
  },
  {
   "cell_type": "code",
   "execution_count": 16,
   "metadata": {},
   "outputs": [
    {
     "name": "stdout",
     "output_type": "stream",
     "text": [
      "How many Fibonacci numbers would you like to generate?​ 10\n",
      "10  Fibonacci numbers are  [0, 1, 1, 2, 3, 5, 8, 13, 21, 34]\n"
     ]
    }
   ],
   "source": [
    "a=0\n",
    "b=0\n",
    "fibNum=[]\n",
    "x = int(input (\"How many Fibonacci numbers would you like to generate?​ \"))\n",
    "fibNum.append(b)\n",
    "#print (fibNum)\n",
    "b += 1\n",
    "for i in range(x-1):\n",
    "    fibNum.append(b)\n",
    "    #print(fibNum)\n",
    "    b, a = a+b, b\n",
    "print (x ,\" Fibonacci numbers are \", fibNum)\n",
    " "
   ]
  },
  {
   "cell_type": "code",
   "execution_count": null,
   "metadata": {},
   "outputs": [],
   "source": []
  }
 ],
 "metadata": {
  "kernelspec": {
   "display_name": "Python 3 (ipykernel)",
   "language": "python",
   "name": "python3"
  },
  "language_info": {
   "codemirror_mode": {
    "name": "ipython",
    "version": 3
   },
   "file_extension": ".py",
   "mimetype": "text/x-python",
   "name": "python",
   "nbconvert_exporter": "python",
   "pygments_lexer": "ipython3",
   "version": "3.11.5"
  }
 },
 "nbformat": 4,
 "nbformat_minor": 4
}
